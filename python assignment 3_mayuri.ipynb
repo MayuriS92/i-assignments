{
 "cells": [
  {
   "cell_type": "markdown",
   "id": "0262e79d",
   "metadata": {},
   "source": [
    "1. Why are functions advantageous to have in your programs?\n",
    ">Once a function is defined, it can be used over and over and over again. You can invoke the same function many times in your program, which saves you work.\n",
    "\n",
    "2. When does the code in a function run: when it's specified or when it's called?\n",
    ">The code in a function executes when the function is called, not when the function is defined.\n",
    "\n",
    "3. What statement creates a function?\n",
    "> the def keyword\n",
    "\n",
    "4. What is the difference between a function and a function call?\n",
    ">A function is a piece of code which enhanced the reusability and modularity of your program. It means that piece of code need not be written again.\n",
    "A function call means invoking or calling that function. Unless a function is called there is no use of that function.\n",
    "\n",
    "5. How many global scopes are there in a Python program? How many local scopes?\n",
    ">Variables that are defined inside a function body have a local scope, and those defined outside have a global scope. \n",
    "\n",
    "6. What happens to variables in a local scope when the function call returns?\n",
    ">all local variables are destroyed and your pointer will be pointing to someplace in the memory that you no longer own. Each call of the function creates new local variables, and their lifetimes expire when the function returns to the caller.\n",
    "\n",
    "7. What is the concept of a return value? Is it possible to have a return value in an expression?\n",
    ">A return statement is used to end the execution of the function call and “returns” the result, yes, it is possible if expression is different from the function return type.\n",
    "\n",
    "8. If a function does not have a return statement, what is the return value of a call to that function?\n",
    ">In this case, the return value of the called function is undefined.\n",
    "\n",
    "9. How do you make a function variable refer to the global variable?\n",
    ">If you want to refer to a global variable in a function, you can use the global keyword to declare which variables are global.\n",
    "\n",
    "10. What is the data type of None?\n",
    ">None is a data type of its own (NoneType)\n",
    "\n",
    "11. What does the sentence import areallyourpetsnamederic do?\n",
    ">That import statement imports a module named areallyourpetsnamederic.\n",
    "\n",
    "12. If you had a bacon() feature in a spam module, what would you call it after importing spam?\n",
    ">If you had a bacon() feature in a spam module, what would you call it after importing spam? This function can be called with spam. bacon().\n",
    "\n",
    "13. What can you do to save a programme from crashing if it encounters an error?\n",
    ">error handling can be used to notify the user of why the error occurred and gracefully try to analysethe error and to solve the error\n",
    "\n",
    "14. What is the purpose of the try clause? What is the purpose of the except clause?\n",
    ">The try block lets you test a block of code for errors. The except block lets you handle the error"
   ]
  },
  {
   "cell_type": "code",
   "execution_count": null,
   "id": "6f6c1a79",
   "metadata": {},
   "outputs": [],
   "source": []
  }
 ],
 "metadata": {
  "kernelspec": {
   "display_name": "Python 3 (ipykernel)",
   "language": "python",
   "name": "python3"
  },
  "language_info": {
   "codemirror_mode": {
    "name": "ipython",
    "version": 3
   },
   "file_extension": ".py",
   "mimetype": "text/x-python",
   "name": "python",
   "nbconvert_exporter": "python",
   "pygments_lexer": "ipython3",
   "version": "3.10.9"
  }
 },
 "nbformat": 4,
 "nbformat_minor": 5
}
