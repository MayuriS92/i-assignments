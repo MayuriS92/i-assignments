{
 "cells": [
  {
   "cell_type": "markdown",
   "id": "6707bb18",
   "metadata": {},
   "source": [
    "1. What does an empty dictionary&#39;s code look like?\n",
    ">dict = {}\n",
    "\n",
    "2. What is the value of a dictionary value with the key &#39;foo&#39; and the value 42?\n",
    ">{'foo': 42}\n",
    "\n",
    "3. What is the most significant distinction between a dictionary and a list?\n",
    ">dictionary has key value pairs and list has an individual elements >or items which can be strings, integers, set or an dictionary too\n",
    "\n",
    "4. What happens if you try to access spam['foo'] if spam is {'bar':100}?\n",
    ">spam ={'bar':100}\n",
    ">spam['foo'] will give an error because 'foo' is not defined.\n",
    "\n",
    "5. If a dictionary is stored in spam, what is the difference between the expressions &#39;cat&#39; in spam and\n",
    "&#39;cat&#39; in spam.keys()?\n",
    "> 'cat' is stored in spam as a dictionary , but i will assign as a set because value is not defined .\n",
    "so expression spam = {'cat'} will show as set\n",
    "and spam.keys() will throw an error\n",
    "\n",
    "6. If a dictionary is stored in spam, what is the difference between the expressions &#39;cat&#39; in spam and\n",
    "&#39;cat&#39; in spam.values()?\n",
    " >'cat' is stored in spam as a dictionary , but i will assign as a set because value is not defined .\n",
    "so expression spam = {'cat'} will show as set\n",
    "and spam.values() will throw an error\n",
    "\n",
    "7. What is a shortcut for the following code?\n",
    ">first , spam = ['color']\n",
    "        spam[0]='black'\n",
    "        \n",
    "8. How do you &quot;pretty print&quot; dictionary values using which module and function?\n",
    ">dict.values()\n",
    "\n",
    "\n"
   ]
  },
  {
   "cell_type": "code",
   "execution_count": null,
   "id": "d10ee3c4",
   "metadata": {},
   "outputs": [],
   "source": []
  },
  {
   "cell_type": "code",
   "execution_count": null,
   "id": "967b0ce9",
   "metadata": {},
   "outputs": [],
   "source": []
  },
  {
   "cell_type": "code",
   "execution_count": null,
   "id": "0fc81233",
   "metadata": {},
   "outputs": [],
   "source": []
  },
  {
   "cell_type": "code",
   "execution_count": null,
   "id": "c360a277",
   "metadata": {},
   "outputs": [],
   "source": []
  }
 ],
 "metadata": {
  "kernelspec": {
   "display_name": "Python 3 (ipykernel)",
   "language": "python",
   "name": "python3"
  },
  "language_info": {
   "codemirror_mode": {
    "name": "ipython",
    "version": 3
   },
   "file_extension": ".py",
   "mimetype": "text/x-python",
   "name": "python",
   "nbconvert_exporter": "python",
   "pygments_lexer": "ipython3",
   "version": "3.10.9"
  }
 },
 "nbformat": 4,
 "nbformat_minor": 5
}
