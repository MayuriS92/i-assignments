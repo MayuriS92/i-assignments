{
 "cells": [
  {
   "cell_type": "markdown",
   "id": "33bfdce0",
   "metadata": {},
   "source": [
    "1. What exactly is []?\n",
    ">> this is an empty list value\n",
    "\n",
    "2. In a list of values stored in a variable called spam, how would you assign the value &#39;hello&#39; as the\n",
    "third value? (Assume [2, 4, 6, 8, 10] are in spam.)\n",
    ">> spam[3]=\"hello\"\n",
    "\n",
    ">>3.\"d\"\n",
    "\n",
    ">>4.\"d\"\n",
    "\n",
    ">>5.['a', 'b']\n",
    "\n",
    ">>6. 1\n",
    "\n",
    ">>7.[3.14, 'cat', 11, 'cat', True, 99]\n",
    "\n",
    ">>8.[3.14, 11, 'cat', True]\n",
    "\n",
    ">>9. list cocatenation add list to exiting list and list replication operators replict the list and forms a seperate list.\n",
    "\n",
    ">>10. in append, the value we append is placed at last index  while by using insert we can add value or element at any index no.\n",
    "\n",
    ">>11.pop and remove\n",
    "\n",
    ">>12.The differences between them are that firstly, Lists are mutable but Strings are immutable. Secondly, elements of a list can be of different types whereas a String only contains characters that are all of String type.\n",
    "\n",
    ">>13. tuple is immutable and lis is immutable(mutable means we can perform remove, pop, append operation or we can change the elments of the dataset)\n",
    "\n",
    ">>14.tuple=(42)\n",
    "\n",
    ">>15.tuple(list), list(tuple)\n",
    "\n",
    ">>16. they conatains, str, int, tuple, list, dict datatype elements\n",
    "\n",
    ">>17.copy() create reference to original object. If you change copied object - you change the original object. . deepcopy() creates new object and does real copying of original object to new one. "
   ]
  },
  {
   "cell_type": "code",
   "execution_count": null,
   "id": "a03db48e",
   "metadata": {},
   "outputs": [],
   "source": []
  },
  {
   "cell_type": "code",
   "execution_count": null,
   "id": "026e2e4d",
   "metadata": {},
   "outputs": [],
   "source": []
  }
 ],
 "metadata": {
  "kernelspec": {
   "display_name": "Python 3 (ipykernel)",
   "language": "python",
   "name": "python3"
  },
  "language_info": {
   "codemirror_mode": {
    "name": "ipython",
    "version": 3
   },
   "file_extension": ".py",
   "mimetype": "text/x-python",
   "name": "python",
   "nbconvert_exporter": "python",
   "pygments_lexer": "ipython3",
   "version": "3.10.9"
  }
 },
 "nbformat": 4,
 "nbformat_minor": 5
}
