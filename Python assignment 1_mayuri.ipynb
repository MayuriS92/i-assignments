{
 "cells": [
  {
   "cell_type": "markdown",
   "id": "ca498d36",
   "metadata": {},
   "source": [
    "#Q.1\n",
    "values = 'hello', -87.8, 6\n",
    "expressions= -, /, +,* \n"
   ]
  },
  {
   "cell_type": "markdown",
   "id": "e1a295a1",
   "metadata": {},
   "source": [
    "#Q. 2\n",
    " string = Strings in Python are sequences of character data. They are created by enclosing characters in single or double  quotes.\n",
    " \n",
    " variable = a variable is a named location used to store data in memory."
   ]
  },
  {
   "cell_type": "markdown",
   "id": "875446bd",
   "metadata": {},
   "source": [
    "Q.3\n",
    "three data types\n",
    "1)strings= Strings in Python are sequences of character data, it canbe integer or alphanumeric value. They are created by enclosing characters in quotes. eg. \"mayuri\", 'abc3513'\n",
    "2)integer = is a numeric value. eg. 123,789,875\n",
    "3)floating values = its basically a decimal integer value eg. 123.155, 5.5"
   ]
  },
  {
   "cell_type": "markdown",
   "id": "775306fb",
   "metadata": {},
   "source": [
    "Q.4\n",
    "expressions do various operations :\n",
    "-Arithmetic operations:- +,-,*,/,//,%,**\n",
    "-Assignment operations:- =, -=, += etc.\n",
    "-Comparison operations:- ==,!=, >, <, <= tec.\n",
    "-Logical operations :- and , or\n",
    "\n",
    "expressions are made up of arithmatic signs. eg, +,-,*,/,//,%,**, = etc."
   ]
  },
  {
   "cell_type": "markdown",
   "id": "d5994e0a",
   "metadata": {},
   "source": [
    "q5\n",
    "spam = 10, is a statement\n",
    "spam = 10, means = is an assignment operator which is used ,spam variable assigned to 10 is an expression"
   ]
  },
  {
   "cell_type": "markdown",
   "id": "ac50b851",
   "metadata": {},
   "source": [
    "q6 \n",
    "bacon =22\n",
    "bacon+1= 23 \n",
    "still bacon contain 22 , because bacon+1 value is not defined for any variable , so the value of bcon remain unchanged\n"
   ]
  },
  {
   "cell_type": "markdown",
   "id": "d99670df",
   "metadata": {},
   "source": [
    "q7\n",
    "'spam'+ 'spamspam' = 'spamspamspam'\n",
    "'spam'*3 = 'spamspamspam'"
   ]
  },
  {
   "cell_type": "markdown",
   "id": "13c51389",
   "metadata": {},
   "source": [
    "q8\n",
    "eggs is a valid variable name because, in python variable name can be start with alphabate or _ \n",
    "100 is an invalid variable because , in python variable name can not be an integer value"
   ]
  },
  {
   "cell_type": "markdown",
   "id": "02bf7ceb",
   "metadata": {},
   "source": [
    "q9\n",
    "to get integer , functon is int()\n",
    "to get floating-point number function is float()\n",
    "to get string value function is str()\n"
   ]
  },
  {
   "cell_type": "markdown",
   "id": "33a04103",
   "metadata": {},
   "source": [
    "q10\n",
    "'I have eaten' + 99 + 'burritos.'\n",
    "here it is giving error because we are trying to concatinate string with an integer value , to fix this, we have to convert 99 into str value as '99'\n",
    "'I have eaten' + '99' + 'burritos.'\n",
    "'I have eaten99burritos.'"
   ]
  },
  {
   "cell_type": "code",
   "execution_count": null,
   "id": "2a92daed",
   "metadata": {},
   "outputs": [],
   "source": []
  }
 ],
 "metadata": {
  "kernelspec": {
   "display_name": "Python 3 (ipykernel)",
   "language": "python",
   "name": "python3"
  },
  "language_info": {
   "codemirror_mode": {
    "name": "ipython",
    "version": 3
   },
   "file_extension": ".py",
   "mimetype": "text/x-python",
   "name": "python",
   "nbconvert_exporter": "python",
   "pygments_lexer": "ipython3",
   "version": "3.10.9"
  }
 },
 "nbformat": 4,
 "nbformat_minor": 5
}
