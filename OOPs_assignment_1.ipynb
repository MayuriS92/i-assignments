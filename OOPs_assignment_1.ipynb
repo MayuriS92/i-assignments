{
  "nbformat": 4,
  "nbformat_minor": 0,
  "metadata": {
    "colab": {
      "provenance": []
    },
    "kernelspec": {
      "name": "python3",
      "display_name": "Python 3"
    },
    "language_info": {
      "name": "python"
    }
  },
  "cells": [
    {
      "cell_type": "markdown",
      "source": [
        "1) What is the primary goal of Object-Oriented Programming (OOP)?\n",
        ">The primary goal of Object-Oriented Programming (OOP) is to provide a programming paradigm that organizes data and behavior into reusable structures called objects. OOP emphasizes the concept of objects, which are instances of classes, and allows for the encapsulation, abstraction, inheritance, and polymorphism of data and functionality.\n",
        "\n",
        "1. Encapsulation: Encapsulation is the process of bundling data and the methods that operate on that data into a single unit, i.e., an object. This helps in achieving data hiding and enables better control over the accessibility and modification of data.\n",
        "\n",
        "2. Abstraction: Abstraction focuses on simplifying complex systems by representing the essential features without exposing the underlying implementation details. It allows programmers to create abstract classes and interfaces that define the common behavior and properties of a group of objects.\n",
        "\n",
        "3. Inheritance: Inheritance is a mechanism that enables new classes to derive properties and methods from existing classes. It promotes code reuse by allowing the creation of subclasses that inherit the attributes and behaviors of their parent classes while providing the flexibility to modify or extend them.\n",
        "\n",
        "4. Polymorphism: Polymorphism allows objects of different classes to be treated as objects of a common superclass. It enables the use of a single interface to represent different types of objects, providing flexibility and extensibility in software design.\n",
        "\n",
        "By leveraging these core principles, OOP aims to enhance code modularity, reusability, and maintainability. It promotes the development of modular, scalable, and flexible software systems, making it easier to manage and modify code over time.\n",
        "\n"
      ],
      "metadata": {
        "id": "WNGIp7D6JBFZ"
      }
    },
    {
      "cell_type": "markdown",
      "source": [
        "2)What is an object in Python?\n",
        ">An Object is an instance of a Class. A class is like a blueprint while an instance is a copy of the class with actual values. Python is an object-oriented programming language that stresses objects i.e. it mainly emphasizes functions. Python Objects are basically an encapsulation of data variables and methods acting on that data into a single entity.\n",
        "\n"
      ],
      "metadata": {
        "id": "N47wP1a1JAU6"
      }
    },
    {
      "cell_type": "markdown",
      "source": [
        "3. What is a class in Python?\n",
        ">A Class is like an object constructor, or a \"blueprint\" for creating objects."
      ],
      "metadata": {
        "id": "y5BisUjPI_mj"
      }
    },
    {
      "cell_type": "markdown",
      "source": [
        "4. What are attributes and methods in a class?\n",
        ">Any variable that is bound in a class is a class attribute . Any function defined within a class is a method ."
      ],
      "metadata": {
        "id": "vutWqkkcMrv6"
      }
    },
    {
      "cell_type": "markdown",
      "source": [
        "5. What is the difference between class variables and instance variables in Python?\n",
        "> class variables are shared between a class and all its subclasses, while class instance variables only belong to one specific class."
      ],
      "metadata": {
        "id": "COQsM4ytNPpv"
      }
    },
    {
      "cell_type": "markdown",
      "source": [
        "6. What is the purpose of the self parameter in Python class methods?\n",
        ">By using the “self” we can access the attributes and methods of the class in python. It binds the attributes with the given arguments.\n",
        "The self parameter is a reference to the current instance of the class, and is used to access variables that belongs to the class."
      ],
      "metadata": {
        "id": "zbaJln4DN9y_"
      }
    },
    {
      "cell_type": "markdown",
      "source": [],
      "metadata": {
        "id": "QJocteqjN94k"
      }
    },
    {
      "cell_type": "code",
      "source": [
        "## 7)\n",
        "\n",
        "class Book:\n",
        "  def __init__(self, title, author, isbn, publication_year, available_copies):\n",
        "    self.title = title\n",
        "    self.author = author\n",
        "    self.isbn = isbn\n",
        "    self.publication_year = publication_year\n",
        "    self.available_copies = available_copies\n",
        "\n",
        "  def check_out(self, check_out):\n",
        "    self.available_copies -= check_out\n",
        "\n",
        "  def return_book(self, return_book):\n",
        "    self.available_copies += return_book\n",
        "\n",
        "  def display_book_info(self):\n",
        "    print (f\"the book info is title={self.title}, Author= {self.author}, isnb is {self.isbn}, publication year is {self.publication_year}, available copies are {self.available_copies}\")\n",
        "\n"
      ],
      "metadata": {
        "id": "CAiTcgzdXrn2"
      },
      "execution_count": null,
      "outputs": []
    },
    {
      "cell_type": "code",
      "source": [
        "book = Book(\"SANSRITI\", \"Dr.Vibha Manoj Sharma\", 978-81-933904-0-5, 2017, 5)"
      ],
      "metadata": {
        "id": "iTVqtgGecqez"
      },
      "execution_count": null,
      "outputs": []
    },
    {
      "cell_type": "code",
      "source": [
        "book.author"
      ],
      "metadata": {
        "colab": {
          "base_uri": "https://localhost:8080/",
          "height": 36
        },
        "id": "DFZp_M33dJrQ",
        "outputId": "e80a77cd-ab32-4d29-ae42-b3f9785d1ae0"
      },
      "execution_count": null,
      "outputs": [
        {
          "output_type": "execute_result",
          "data": {
            "text/plain": [
              "'Dr.Vibha Manoj Sharma'"
            ],
            "application/vnd.google.colaboratory.intrinsic+json": {
              "type": "string"
            }
          },
          "metadata": {},
          "execution_count": 5
        }
      ]
    },
    {
      "cell_type": "code",
      "source": [
        "book.check_out(1)"
      ],
      "metadata": {
        "id": "1wDYQzcSdNSn"
      },
      "execution_count": null,
      "outputs": []
    },
    {
      "cell_type": "code",
      "source": [
        "book.display_book_info()"
      ],
      "metadata": {
        "colab": {
          "base_uri": "https://localhost:8080/"
        },
        "id": "8eY8f0ADdWWr",
        "outputId": "56ddd1e2-4022-443d-8e1b-7a246af97342"
      },
      "execution_count": null,
      "outputs": [
        {
          "output_type": "stream",
          "name": "stdout",
          "text": [
            "the book info is title=SANSRITI, Author= Dr.Vibha Manoj Sharma, isnb is -933012, publication year is 2017, available copies are 4\n"
          ]
        }
      ]
    },
    {
      "cell_type": "code",
      "source": [
        "book.return_book(1)"
      ],
      "metadata": {
        "id": "aNptVrTcddDy"
      },
      "execution_count": null,
      "outputs": []
    },
    {
      "cell_type": "code",
      "source": [
        "book.display_book_info()"
      ],
      "metadata": {
        "colab": {
          "base_uri": "https://localhost:8080/"
        },
        "id": "93U8hYB9dnLW",
        "outputId": "00d96132-b903-4b5e-97bf-5f64cb7ece70"
      },
      "execution_count": null,
      "outputs": [
        {
          "output_type": "stream",
          "name": "stdout",
          "text": [
            "the book info is title=SANSRITI, Author= Dr.Vibha Manoj Sharma, isnb is -933012, publication year is 2017, available copies are 5\n"
          ]
        }
      ]
    },
    {
      "cell_type": "code",
      "source": [
        "##Q8)\n",
        "\n",
        "class Ticket:\n",
        "  def __init__(self, ticket_id, event_name, event_date, venue, seat_number, price, is_reserved):\n",
        "    self.ticket_id = ticket_id\n",
        "    self.event_name = event_name\n",
        "    self.venue = venue\n",
        "    self.seat_number = seat_number\n",
        "    self.price= price\n",
        "    self.is_reserved = is_reserved\n",
        "\n",
        "  def reserve_ticket(self, reserve_ticket):\n",
        "    self.is_reserved +=reserve_ticket\n",
        "\n",
        "  def cancel_reservation(self, ticket):\n",
        "    if ticket in self.is_reserved:\n",
        "      self.is_reserved.remove(ticket)\n",
        "      print(\"{} is already in {}\".format(ticket),(is_reserved))\n",
        "\n",
        "  def display_ticket_info(self):\n",
        "      print(\"The ticket info is ticket_id {self.ticket_id}, event {self.event_name}, venue {self.venue}, seat no {self.seat_number}, price {self.price}, with reservation status {self.is_reserved}\")\n"
      ],
      "metadata": {
        "id": "hhTK-OGOdqp7"
      },
      "execution_count": null,
      "outputs": []
    },
    {
      "cell_type": "code",
      "source": [
        "ticket = Ticket(123, \"banjo\", \"20 aug\", \"mumbai\", 456, 500, 78-98)"
      ],
      "metadata": {
        "id": "Gv6MQfgO1bm0"
      },
      "execution_count": null,
      "outputs": []
    },
    {
      "cell_type": "code",
      "source": [
        "ticket.reserve_ticket(78-99)"
      ],
      "metadata": {
        "id": "ZPaIoaDT173h"
      },
      "execution_count": null,
      "outputs": []
    },
    {
      "cell_type": "code",
      "source": [
        "ticket.cancel_reservation"
      ],
      "metadata": {
        "colab": {
          "base_uri": "https://localhost:8080/"
        },
        "id": "d3yGagS12dhi",
        "outputId": "895fcf7b-7d10-458e-9845-5062af8b9a74"
      },
      "execution_count": null,
      "outputs": [
        {
          "output_type": "execute_result",
          "data": {
            "text/plain": [
              "<bound method Ticket.cancel_reservation of <__main__.Ticket object at 0x7f6ac98ea2f0>>"
            ]
          },
          "metadata": {},
          "execution_count": 28
        }
      ]
    },
    {
      "cell_type": "code",
      "source": [
        "ticket.display_ticket_info()"
      ],
      "metadata": {
        "colab": {
          "base_uri": "https://localhost:8080/"
        },
        "id": "dO19K-8_2tEr",
        "outputId": "30109b90-0a6b-489e-8742-04c2361336f8"
      },
      "execution_count": null,
      "outputs": [
        {
          "output_type": "stream",
          "name": "stdout",
          "text": [
            "The ticket info is ticket_id {self.ticket_id}, event {self.event_name}, venue {self.venue}, seat no {self.seat_number}, price {self.price}, with reservation status {self.is_reserved}\n"
          ]
        }
      ]
    },
    {
      "cell_type": "code",
      "source": [
        "## 9)\n",
        "class ShoppingCart:\n",
        "    def __init__(self):\n",
        "        self.items = []\n",
        "\n",
        "    def add_item(self, item_name, qty):\n",
        "        item = (item_name, qty)\n",
        "        self.items.append(item)\n",
        "\n",
        "    def remove_item(self, item_name):\n",
        "        for item in self.items:\n",
        "            if item[0] == item_name:\n",
        "                self.items.remove(item)\n",
        "                break\n",
        "\n",
        "    def view_cart(self):\n",
        "        total = 0\n",
        "        for item in self.items:\n",
        "            total += item[1]\n",
        "        return total\n",
        "\n",
        "    def clear_cart(self):\n",
        "      self.items=[]"
      ],
      "metadata": {
        "id": "euBPkkm13tDF"
      },
      "execution_count": null,
      "outputs": []
    },
    {
      "cell_type": "code",
      "source": [
        "cart = ShoppingCart()"
      ],
      "metadata": {
        "id": "iqZ7wgXwBZl5"
      },
      "execution_count": null,
      "outputs": []
    },
    {
      "cell_type": "code",
      "source": [
        "cart.add_item(\"chocolate\" , 10)\n",
        "cart.add_item(\"mango\", 15)\n",
        "cart.add_item(\"biscuit\", 5)"
      ],
      "metadata": {
        "id": "xj1RTkZtBm9N"
      },
      "execution_count": null,
      "outputs": []
    },
    {
      "cell_type": "code",
      "source": [
        "cart.remove_item(\"mango\")"
      ],
      "metadata": {
        "id": "HDoYtbtzB6_m"
      },
      "execution_count": null,
      "outputs": []
    },
    {
      "cell_type": "code",
      "source": [
        "cart.view_cart()"
      ],
      "metadata": {
        "colab": {
          "base_uri": "https://localhost:8080/"
        },
        "id": "Kz0Acsk1CNjZ",
        "outputId": "be9dbcf5-d860-4c6f-f856-f6aa0acca7bd"
      },
      "execution_count": null,
      "outputs": [
        {
          "output_type": "execute_result",
          "data": {
            "text/plain": [
              "15"
            ]
          },
          "metadata": {},
          "execution_count": 35
        }
      ]
    },
    {
      "cell_type": "code",
      "source": [
        "cart.clear_cart()"
      ],
      "metadata": {
        "id": "5MbyviqDCRum"
      },
      "execution_count": null,
      "outputs": []
    },
    {
      "cell_type": "code",
      "source": [
        "cart.view_cart()"
      ],
      "metadata": {
        "colab": {
          "base_uri": "https://localhost:8080/"
        },
        "id": "r1ynAPx-CbFG",
        "outputId": "1a5bcc2f-175b-4c59-b5fa-f9c810baa605"
      },
      "execution_count": null,
      "outputs": [
        {
          "output_type": "execute_result",
          "data": {
            "text/plain": [
              "0"
            ]
          },
          "metadata": {},
          "execution_count": 37
        }
      ]
    },
    {
      "cell_type": "code",
      "source": [
        "##10)\n",
        "class Student:\n",
        "  def __init__(self, name, age, grade, student_id, attendance):\n",
        "    self.name = name\n",
        "    self.age = age\n",
        "    self.grade = grade\n",
        "    self.student_id = student_id\n",
        "    self.attendance = {}\n",
        "\n",
        "  def update_attendance(self, date, status):\n",
        "    self.attendance[date]= status\n",
        "\n",
        "  def get_attendance(self):\n",
        "    return self.attendance\n",
        "\n",
        "  def get_average_attendance(self):\n",
        "    total_classes = len(self.attendance)\n",
        "    if total_classes == 0:\n",
        "      return 0\n",
        "    present_count =sum(status for status in self.attendance.values())\n",
        "    average = present_count/ total_classes\n",
        "    return average * 100"
      ],
      "metadata": {
        "id": "cpQWHAMLCe2C"
      },
      "execution_count": 44,
      "outputs": []
    },
    {
      "cell_type": "code",
      "source": [
        "student1 = Student(\"Emie\", 15,\"A\", 123, True or False)"
      ],
      "metadata": {
        "id": "AspV55iWc24L"
      },
      "execution_count": 45,
      "outputs": []
    },
    {
      "cell_type": "code",
      "source": [
        "student1.update_attendance(\"2023-07-04\",True )\n",
        "student1.update_attendance(\"2023-07-05\",False )\n",
        "student1.update_attendance(\"2023-07-06\",True )\n",
        "student1.update_attendance(\"2023-07-07\",True )\n",
        "student1.update_attendance(\"2023-07-08\",False )\n",
        "student1.update_attendance(\"2023-07-09\",True )\n",
        "student1.update_attendance(\"2023-07-10\",False )\n",
        "student1.update_attendance(\"2023-07-11\",True )"
      ],
      "metadata": {
        "id": "u9LsBiHORP32"
      },
      "execution_count": 46,
      "outputs": []
    },
    {
      "cell_type": "code",
      "source": [
        "student1.get_attendance()"
      ],
      "metadata": {
        "colab": {
          "base_uri": "https://localhost:8080/"
        },
        "id": "cB9SThYgSiRU",
        "outputId": "cf282854-bbe0-4ef4-b92a-60bcfc3245e9"
      },
      "execution_count": 47,
      "outputs": [
        {
          "output_type": "execute_result",
          "data": {
            "text/plain": [
              "{'2023-07-04': True,\n",
              " '2023-07-05': False,\n",
              " '2023-07-06': True,\n",
              " '2023-07-07': True,\n",
              " '2023-07-08': False,\n",
              " '2023-07-09': True,\n",
              " '2023-07-10': False,\n",
              " '2023-07-11': True}"
            ]
          },
          "metadata": {},
          "execution_count": 47
        }
      ]
    },
    {
      "cell_type": "code",
      "source": [
        "student1.get_average_attendance()"
      ],
      "metadata": {
        "colab": {
          "base_uri": "https://localhost:8080/"
        },
        "id": "r43hZIU2So74",
        "outputId": "bf76da31-058c-4f27-8bdf-6a29873962a3"
      },
      "execution_count": 48,
      "outputs": [
        {
          "output_type": "execute_result",
          "data": {
            "text/plain": [
              "62.5"
            ]
          },
          "metadata": {},
          "execution_count": 48
        }
      ]
    },
    {
      "cell_type": "code",
      "source": [],
      "metadata": {
        "id": "JtRBZxVuS0jA"
      },
      "execution_count": null,
      "outputs": []
    }
  ]
}